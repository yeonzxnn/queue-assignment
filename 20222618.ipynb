{
  "nbformat": 4,
  "nbformat_minor": 0,
  "metadata": {
    "colab": {
      "provenance": []
    },
    "kernelspec": {
      "name": "python3",
      "display_name": "Python 3"
    },
    "language_info": {
      "name": "python"
    }
  },
  "cells": [
    {
      "cell_type": "markdown",
      "source": [
        "## LeetCode 225. Implement Stack using Queues\n",
        "\n",
        "- 큐 2개를 사용해서 스택을 구현하는 문제\n",
        "- `push` 시에 큐 순서를 정리해서 마지막으로 들어온 게 먼저 나가도록 처리\n"
      ],
      "metadata": {
        "id": "2GRxy6li-oz0"
      }
    },
    {
      "cell_type": "code",
      "source": [
        "from collections import deque\n",
        "\n",
        "class MyStack:\n",
        "\n",
        "    def __init__(self):\n",
        "        self.q1 = deque()\n",
        "        self.q2 = deque()\n",
        "\n",
        "    def push(self, x: int) -> None:\n",
        "        self.q2.append(x)\n",
        "        while self.q1:\n",
        "            self.q2.append(self.q1.popleft())\n",
        "        self.q1, self.q2 = self.q2, self.q1\n",
        "\n",
        "    def pop(self) -> int:\n",
        "        return self.q1.popleft()\n",
        "\n",
        "    def top(self) -> int:\n",
        "        return self.q1[0]\n",
        "\n",
        "    def empty(self) -> bool:\n",
        "        return not self.q1\n"
      ],
      "metadata": {
        "id": "wm9yK-Xf-t4u"
      },
      "execution_count": null,
      "outputs": []
    },
    {
      "cell_type": "markdown",
      "source": [
        "## LeetCode 232. Implement Queue using Stacks\n",
        "\n",
        "- 스택 두 개로 큐 구조 흉내냄\n",
        "- `in_stack`: 데이터를 push할 때 사용\n",
        "- `out_stack`: 데이터를 pop/peek할 때 사용\n",
        "- `out_stack`이 비어있을 때만 in_stack에서 옮김\n"
      ],
      "metadata": {
        "id": "T6jtM3wIAm83"
      }
    },
    {
      "cell_type": "code",
      "source": [
        "class MyQueue:\n",
        "\n",
        "    def __init__(self):\n",
        "        self.in_stack = []\n",
        "        self.out_stack = []\n",
        "\n",
        "    def push(self, x: int) -> None:\n",
        "        self.in_stack.append(x)\n",
        "\n",
        "    def pop(self) -> int:\n",
        "        if not self.out_stack:\n",
        "            while self.in_stack:\n",
        "                self.out_stack.append(self.in_stack.pop())\n",
        "        return self.out_stack.pop()\n",
        "\n",
        "    def peek(self) -> int:\n",
        "        if not self.out_stack:\n",
        "            while self.in_stack:\n",
        "                self.out_stack.append(self.in_stack.pop())\n",
        "        return self.out_stack[-1]\n",
        "\n",
        "    def empty(self) -> bool:\n",
        "        return not self.in_stack and not self.out_stack\n"
      ],
      "metadata": {
        "id": "Brpy6JLbAo2C"
      },
      "execution_count": null,
      "outputs": []
    },
    {
      "cell_type": "markdown",
      "source": [
        "문제1"
      ],
      "metadata": {
        "id": "rdWzDFhfE5Ec"
      }
    },
    {
      "cell_type": "code",
      "source": [
        "class ListQueue:\n",
        "    def __init__(self):\n",
        "        self.__queue = []\n",
        "\n",
        "    def enqueue(self, x):\n",
        "        self.__queue.insert(0, x)  # 앞에 넣는다 = tail\n",
        "\n",
        "    def dequeue(self):\n",
        "        return self.__queue.pop()  # 뒤에서 뺀다 = front\n",
        "\n",
        "    def front(self):\n",
        "        return self.__queue[-1]  # 맨 끝이 front\n",
        "\n",
        "    def isEmpty(self):\n",
        "        return len(self.__queue) == 0\n",
        "\n",
        "    def dequeueAll(self):\n",
        "        self.__queue.clear()\n"
      ],
      "metadata": {
        "id": "t-iyyQctE-Fy"
      },
      "execution_count": null,
      "outputs": []
    },
    {
      "cell_type": "markdown",
      "source": [
        "문제2"
      ],
      "metadata": {
        "id": "aKODOaEdF6jD"
      }
    },
    {
      "cell_type": "code",
      "source": [
        "from collections import deque\n",
        "\n",
        "def is_palindrome_by_queue(input_str):\n",
        "    q1 = deque()\n",
        "    q2 = deque()\n",
        "\n",
        "    if '$' not in input_str:\n",
        "        return False\n",
        "\n",
        "    front, back = input_str.split('$', 1)\n",
        "\n",
        "    for ch in front:\n",
        "        q1.append(ch)\n",
        "    for ch in reversed(back):\n",
        "        q2.append(ch)\n",
        "\n",
        "    while q1 and q2:\n",
        "        if q1.popleft() != q2.popleft():\n",
        "            return False\n",
        "    return not q1 and not q2\n",
        "\n",
        "# 예시\n",
        "print(is_palindrome_by_queue(\"abc$cba\"))  # True\n",
        "print(is_palindrome_by_queue(\"abc$abc\"))  # False\n"
      ],
      "metadata": {
        "id": "Fetuuq_rF9Fe"
      },
      "execution_count": null,
      "outputs": []
    },
    {
      "cell_type": "markdown",
      "source": [
        "문제3"
      ],
      "metadata": {
        "id": "JH1ZWdmnGDSo"
      }
    },
    {
      "cell_type": "code",
      "source": [
        "class Node:\n",
        "    def __init__(self, item):\n",
        "        self.item = item\n",
        "        self.next = None\n",
        "\n",
        "class LinkedQueue:\n",
        "    def __init__(self):\n",
        "        self.front = self.rear = None\n",
        "\n",
        "    def is_empty(self):\n",
        "        return self.front is None\n",
        "\n",
        "    def enqueue(self, item):\n",
        "        new_node = Node(item)\n",
        "        if self.rear:\n",
        "            self.rear.next = new_node\n",
        "        else:\n",
        "            self.front = new_node\n",
        "        self.rear = new_node\n",
        "\n",
        "    def dequeue(self):\n",
        "        if self.is_empty():\n",
        "            raise Exception(\"Queue is empty\")\n",
        "        item = self.front.item\n",
        "        self.front = self.front.next\n",
        "        if self.front is None:\n",
        "            self.rear = None\n",
        "        return item\n",
        "\n",
        "    def deep_copy(self):\n",
        "        copied = LinkedQueue()\n",
        "        current = self.front\n",
        "        while current:\n",
        "            copied.enqueue(current.item)\n",
        "            current = current.next\n",
        "        return copied\n"
      ],
      "metadata": {
        "id": "0RWSAmGdGE7f"
      },
      "execution_count": null,
      "outputs": []
    },
    {
      "cell_type": "markdown",
      "source": [
        "문제4"
      ],
      "metadata": {
        "id": "0SfTtcw4GJrH"
      }
    },
    {
      "cell_type": "code",
      "source": [
        "from collections import deque\n",
        "\n",
        "class StackUsingQueues:\n",
        "    def __init__(self):\n",
        "        self.q1 = deque()\n",
        "        self.q2 = deque()\n",
        "\n",
        "    def push(self, item):\n",
        "        self.q2.append(item)\n",
        "        while self.q1:\n",
        "            self.q2.append(self.q1.popleft())\n",
        "        self.q1, self.q2 = self.q2, self.q1\n",
        "\n",
        "    def pop(self):\n",
        "        if not self.q1:\n",
        "            raise Exception(\"Stack is empty\")\n",
        "        return self.q1.popleft()\n"
      ],
      "metadata": {
        "id": "QENiDAbJGLAV"
      },
      "execution_count": null,
      "outputs": []
    },
    {
      "cell_type": "markdown",
      "source": [
        "문제5"
      ],
      "metadata": {
        "id": "OBE8Fw9FGPxX"
      }
    },
    {
      "cell_type": "code",
      "source": [
        "class QueueUsingStacks:\n",
        "    def __init__(self):\n",
        "        self.stack1 = []\n",
        "        self.stack2 = []\n",
        "\n",
        "    def enqueue(self, item):\n",
        "        self.stack1.append(item)\n",
        "\n",
        "    def dequeue(self):\n",
        "        if not self.stack2:\n",
        "            while self.stack1:\n",
        "                self.stack2.append(self.stack1.pop())\n",
        "        if not self.stack2:\n",
        "            raise Exception(\"Queue is empty\")\n",
        "        return self.stack2.pop()\n"
      ],
      "metadata": {
        "id": "zcBb__DvGQ4Z"
      },
      "execution_count": null,
      "outputs": []
    },
    {
      "cell_type": "markdown",
      "source": [
        "문제6\n",
        "\n",
        "Deque에서 enqueue()와 dequeue()를 양쪽에서 할 수 있으므로, 큐의 사이즈가 n일 때도\n",
        "enqueue() = O(1) 시간\n",
        "dequeue() = O(1) 시간 이다.\n"
      ],
      "metadata": {
        "id": "xtFacZuCGUj4"
      }
    },
    {
      "cell_type": "markdown",
      "source": [
        "문제7\n",
        "\n",
        "LinkedListBasic 클래스는 rear 포인터가 없다고 가정하면,\n",
        "enqueue()는 리스트 끝까지 순회해야 하므로 O(n),\n",
        "dequeue()는 맨 앞 노드를 제거하므로 O(1) 시간이다."
      ],
      "metadata": {
        "id": "ep5oeeiTHqy9"
      }
    },
    {
      "cell_type": "markdown",
      "source": [
        "문제8"
      ],
      "metadata": {
        "id": "8j1C4-blIeZV"
      }
    },
    {
      "cell_type": "code",
      "source": [
        "class Deque:\n",
        "    def __init__(self):\n",
        "        self.__deque = []\n",
        "\n",
        "    def enqueueFront(self, x):\n",
        "        self.__deque.insert(0, x)  # 앞에 삽입\n",
        "\n",
        "    def enqueueRear(self, x):\n",
        "        self.__deque.append(x)     # 뒤에 삽입\n",
        "\n",
        "    def dequeueFront(self):\n",
        "        if self.isEmpty():\n",
        "            raise Exception(\"Deque is empty\")\n",
        "        return self.__deque.pop(0)  # 앞에서 삭제\n",
        "\n",
        "    def dequeueRear(self):\n",
        "        if self.isEmpty():\n",
        "            raise Exception(\"Deque is empty\")\n",
        "        return self.__deque.pop()   # 뒤에서 삭제\n",
        "\n",
        "    def front(self):\n",
        "        if self.isEmpty():\n",
        "            return None\n",
        "        return self.__deque[0]\n",
        "\n",
        "    def rear(self):\n",
        "        if self.isEmpty():\n",
        "            return None\n",
        "        return self.__deque[-1]\n",
        "\n",
        "    def isEmpty(self) -> bool:\n",
        "        return len(self.__deque) == 0\n",
        "\n",
        "    def dequeueAll(self):\n",
        "        self.__deque.clear()\n",
        "\n",
        "    def printDeque(self):\n",
        "        print(\"Deque from front:\", end=' ')\n",
        "        for item in self.__deque:\n",
        "            print(item, end=' ')\n",
        "        print()\n"
      ],
      "metadata": {
        "id": "_B2xFbqFIfYO"
      },
      "execution_count": null,
      "outputs": []
    }
  ]
}